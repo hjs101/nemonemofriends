{
 "cells": [
  {
   "cell_type": "code",
   "execution_count": 7,
   "id": "0080fa14",
   "metadata": {},
   "outputs": [],
   "source": [
    "import urllib.request\n",
    "DataListPath = './DataList.txt'\n",
    "with open(DataListPath) as f:\n",
    "    DataList = f.readlines()\n",
    "classes = [Data.rstrip('\\n') for Data in DataList]"
   ]
  },
  {
   "cell_type": "code",
   "execution_count": 8,
   "id": "4f8e5a68",
   "metadata": {},
   "outputs": [],
   "source": [
    "def download():\n",
    "    base = 'https://storage.googleapis.com/quickdraw_dataset/full/numpy_bitmap/'\n",
    "    for c in classes:\n",
    "        cls_url = c.replace('_', '%20')\n",
    "        path = base+cls_url+'.npy'\n",
    "        print(path)\n",
    "        urllib.request.urlretrieve(path, 'data/'+c+'.npy')"
   ]
  },
  {
   "cell_type": "code",
   "execution_count": 9,
   "id": "19a0a9aa",
   "metadata": {},
   "outputs": [
    {
     "name": "stdout",
     "output_type": "stream",
     "text": [
      "https://storage.googleapis.com/quickdraw_dataset/full/numpy_bitmap/ant.npy\n",
      "https://storage.googleapis.com/quickdraw_dataset/full/numpy_bitmap/apple.npy\n",
      "https://storage.googleapis.com/quickdraw_dataset/full/numpy_bitmap/asparagus.npy\n",
      "https://storage.googleapis.com/quickdraw_dataset/full/numpy_bitmap/banana.npy\n",
      "https://storage.googleapis.com/quickdraw_dataset/full/numpy_bitmap/bird.npy\n",
      "https://storage.googleapis.com/quickdraw_dataset/full/numpy_bitmap/blueberry.npy\n",
      "https://storage.googleapis.com/quickdraw_dataset/full/numpy_bitmap/blackberry.npy\n",
      "https://storage.googleapis.com/quickdraw_dataset/full/numpy_bitmap/broccoli.npy\n",
      "https://storage.googleapis.com/quickdraw_dataset/full/numpy_bitmap/bread.npy\n",
      "https://storage.googleapis.com/quickdraw_dataset/full/numpy_bitmap/bush.npy\n",
      "https://storage.googleapis.com/quickdraw_dataset/full/numpy_bitmap/cake.npy\n",
      "https://storage.googleapis.com/quickdraw_dataset/full/numpy_bitmap/camel.npy\n",
      "https://storage.googleapis.com/quickdraw_dataset/full/numpy_bitmap/carrot.npy\n",
      "https://storage.googleapis.com/quickdraw_dataset/full/numpy_bitmap/cloud.npy\n",
      "https://storage.googleapis.com/quickdraw_dataset/full/numpy_bitmap/cow.npy\n",
      "https://storage.googleapis.com/quickdraw_dataset/full/numpy_bitmap/crab.npy\n",
      "https://storage.googleapis.com/quickdraw_dataset/full/numpy_bitmap/crocodile.npy\n",
      "https://storage.googleapis.com/quickdraw_dataset/full/numpy_bitmap/donut.npy\n",
      "https://storage.googleapis.com/quickdraw_dataset/full/numpy_bitmap/duck.npy\n",
      "https://storage.googleapis.com/quickdraw_dataset/full/numpy_bitmap/fish.npy\n",
      "https://storage.googleapis.com/quickdraw_dataset/full/numpy_bitmap/flamingo.npy\n",
      "https://storage.googleapis.com/quickdraw_dataset/full/numpy_bitmap/flower.npy\n",
      "https://storage.googleapis.com/quickdraw_dataset/full/numpy_bitmap/frog.npy\n",
      "https://storage.googleapis.com/quickdraw_dataset/full/numpy_bitmap/garden.npy\n",
      "https://storage.googleapis.com/quickdraw_dataset/full/numpy_bitmap/grapes.npy\n",
      "https://storage.googleapis.com/quickdraw_dataset/full/numpy_bitmap/grass.npy\n",
      "https://storage.googleapis.com/quickdraw_dataset/full/numpy_bitmap/horse.npy\n",
      "https://storage.googleapis.com/quickdraw_dataset/full/numpy_bitmap/kangaroo.npy\n",
      "https://storage.googleapis.com/quickdraw_dataset/full/numpy_bitmap/leaf.npy\n",
      "https://storage.googleapis.com/quickdraw_dataset/full/numpy_bitmap/mouse.npy\n",
      "https://storage.googleapis.com/quickdraw_dataset/full/numpy_bitmap/owl.npy\n",
      "https://storage.googleapis.com/quickdraw_dataset/full/numpy_bitmap/octopus.npy\n",
      "https://storage.googleapis.com/quickdraw_dataset/full/numpy_bitmap/parrot.npy\n",
      "https://storage.googleapis.com/quickdraw_dataset/full/numpy_bitmap/pear.npy\n",
      "https://storage.googleapis.com/quickdraw_dataset/full/numpy_bitmap/pig.npy\n",
      "https://storage.googleapis.com/quickdraw_dataset/full/numpy_bitmap/pineapple.npy\n",
      "https://storage.googleapis.com/quickdraw_dataset/full/numpy_bitmap/potato.npy\n",
      "https://storage.googleapis.com/quickdraw_dataset/full/numpy_bitmap/raccoon.npy\n",
      "https://storage.googleapis.com/quickdraw_dataset/full/numpy_bitmap/sandwich.npy\n",
      "https://storage.googleapis.com/quickdraw_dataset/full/numpy_bitmap/snail.npy\n",
      "https://storage.googleapis.com/quickdraw_dataset/full/numpy_bitmap/spider.npy\n",
      "https://storage.googleapis.com/quickdraw_dataset/full/numpy_bitmap/steak.npy\n",
      "https://storage.googleapis.com/quickdraw_dataset/full/numpy_bitmap/strawberry.npy\n",
      "https://storage.googleapis.com/quickdraw_dataset/full/numpy_bitmap/swan.npy\n",
      "https://storage.googleapis.com/quickdraw_dataset/full/numpy_bitmap/watermelon.npy\n",
      "https://storage.googleapis.com/quickdraw_dataset/full/numpy_bitmap/zebra.npy\n"
     ]
    }
   ],
   "source": [
    "download()"
   ]
  },
  {
   "cell_type": "code",
   "execution_count": null,
   "id": "38f27713",
   "metadata": {},
   "outputs": [],
   "source": []
  }
 ],
 "metadata": {
  "kernelspec": {
   "display_name": "QuickDraw",
   "language": "python",
   "name": "quickdraw"
  },
  "language_info": {
   "codemirror_mode": {
    "name": "ipython",
    "version": 3
   },
   "file_extension": ".py",
   "mimetype": "text/x-python",
   "name": "python",
   "nbconvert_exporter": "python",
   "pygments_lexer": "ipython3",
   "version": "3.7.13"
  }
 },
 "nbformat": 4,
 "nbformat_minor": 5
}
